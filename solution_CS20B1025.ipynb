{
 "cells": [
  {
   "cell_type": "markdown",
   "metadata": {},
   "source": [
    "## Name: Vineeth Babu Chabala\n",
    "## Institute: IIITDM Kancheepuram\n",
    "## Roll No: CS20B1025"
   ]
  },
  {
   "cell_type": "code",
   "execution_count": 1,
   "metadata": {},
   "outputs": [],
   "source": [
    "import pandas as pd\n",
    "import matplotlib.pyplot as plt"
   ]
  },
  {
   "cell_type": "markdown",
   "metadata": {},
   "source": [
    "import csv file"
   ]
  },
  {
   "cell_type": "code",
   "execution_count": 2,
   "metadata": {},
   "outputs": [],
   "source": [
    "df = pd.read_csv('books.csv')"
   ]
  },
  {
   "cell_type": "markdown",
   "metadata": {},
   "source": [
    "Q1: How many rows and columns are there in books.csv dataset?"
   ]
  },
  {
   "cell_type": "markdown",
   "metadata": {},
   "source": [
    "We can find no of rows and columns in several methods but i am using the below method and also we can use df.shape which gives rows and columns as a tuple "
   ]
  },
  {
   "cell_type": "code",
   "execution_count": 3,
   "metadata": {},
   "outputs": [
    {
     "name": "stdout",
     "output_type": "stream",
     "text": [
      "No of rows: 399\n",
      "No of columns: 24\n"
     ]
    }
   ],
   "source": [
    "print(\"No of rows:\",len(df))\n",
    "print(\"No of columns:\",len(df.columns))"
   ]
  },
  {
   "cell_type": "markdown",
   "metadata": {},
   "source": [
    "Q2: How many books do not have an original title?"
   ]
  },
  {
   "cell_type": "code",
   "execution_count": 4,
   "metadata": {},
   "outputs": [
    {
     "name": "stdout",
     "output_type": "stream",
     "text": [
      "No of books do not have original title: 36\n"
     ]
    }
   ],
   "source": [
    "noTitle = df['original_title'].isnull().sum()\n",
    "print(\"No of books do not have original title:\",noTitle)"
   ]
  },
  {
   "cell_type": "markdown",
   "metadata": {},
   "source": [
    "Q3: How many unique books are present in the dataset ? Evaluate based on the 'book_id' after removing null values in the original_title column."
   ]
  },
  {
   "cell_type": "markdown",
   "metadata": {},
   "source": [
    "Here i am doing a deep copy of the dataset so that any changes i make in the copy will not affect the original dataset\n",
    "Then dropping the rows with original title as null\n",
    "and to count unique books based on book id i have created a dictionary with book ids as dictionary does not allow duplicates length off dictionary is same as unique books"
   ]
  },
  {
   "cell_type": "code",
   "execution_count": 5,
   "metadata": {},
   "outputs": [
    {
     "name": "stdout",
     "output_type": "stream",
     "text": [
      "No of unique books: 363\n"
     ]
    }
   ],
   "source": [
    "df1 = df.copy(deep=True)\n",
    "df1 = df1.dropna(subset=['original_title'])\n",
    "list1 = df1['book_id'].to_list()\n",
    "uniqueId = {i:list1[i] for i in range(0,len(list1))}\n",
    "print(\"No of unique books:\",len(uniqueId))"
   ]
  },
  {
   "cell_type": "markdown",
   "metadata": {},
   "source": [
    "Q4: What is the average rating of all the books in the dataset based on ‘average_rating’?"
   ]
  },
  {
   "cell_type": "code",
   "execution_count": 6,
   "metadata": {},
   "outputs": [
    {
     "name": "stdout",
     "output_type": "stream",
     "text": [
      "Average rating of all the books in the dataset based on average_rating: 3.9837844611528817\n"
     ]
    }
   ],
   "source": [
    "overallAverageRating = df['average_rating'].mean()\n",
    "print(\"Average rating of all the books in the dataset based on average_rating:\",overallAverageRating)"
   ]
  },
  {
   "cell_type": "markdown",
   "metadata": {},
   "source": [
    "Q5: Find the number of books published in the year ‘2000’ based on the ‘original_publication_year’."
   ]
  },
  {
   "cell_type": "code",
   "execution_count": 7,
   "metadata": {},
   "outputs": [
    {
     "name": "stdout",
     "output_type": "stream",
     "text": [
      " No of books published in year 2000: 8\n"
     ]
    }
   ],
   "source": [
    "booksPublished = (df['original_publication_year']==2000).sum()\n",
    "print(\" No of books published in year 2000:\",booksPublished)"
   ]
  },
  {
   "cell_type": "markdown",
   "metadata": {},
   "source": [
    "Q6: Which book (title) has the maximum number of ratings based on ‘work_ratings_count’."
   ]
  },
  {
   "cell_type": "code",
   "execution_count": 8,
   "metadata": {},
   "outputs": [
    {
     "name": "stdout",
     "output_type": "stream",
     "text": [
      "Het Achterhuis: Dagboekbrieven 14 juni 1942 - 1 augustus 1944\n"
     ]
    }
   ],
   "source": [
    "maxRatings = df.loc[df['work_ratings_count'].idxmax()]['original_title']\n",
    "print(maxRatings)"
   ]
  },
  {
   "cell_type": "markdown",
   "metadata": {},
   "source": [
    "Q7: Bucket the average_rating of books into 11 buckets [0, 0.5, 1.0, 1.5, 2.0, 2.5, 3.0, 3.5, 4.0, 4.5, 5.0] with 0.5 decimal rounding (eg: average_rating 3.0 to 3.49 will fall in bucket 3.0). Plot bar graph to show total number of books in each rating bucket."
   ]
  },
  {
   "cell_type": "code",
   "execution_count": 9,
   "metadata": {},
   "outputs": [
    {
     "data": {
      "image/png": "[encoded data removed]",
      "text/plain": [
       "<Figure size 1000x600 with 1 Axes>"
      ]
     },
     "metadata": {},
     "output_type": "display_data"
    }
   ],
   "source": [
    "# Create buckets\n",
    "bins = [0, 0.5, 1.0, 1.5, 2.0, 2.5, 3.0, 3.5, 4.0, 4.5, 5.0]\n",
    "labels = [f'{i:.1f}-{i+0.49:.1f}' for i in bins[:-1]]  # Creating labels for the buckets\n",
    "\n",
    "# Bucket the average_rating\n",
    "df['rating_bucket'] = pd.cut(df['average_rating'], bins=bins, labels=labels, include_lowest=True, right=False)\n",
    "\n",
    "# Count the number of books in each bucket\n",
    "bucket_counts = df['rating_bucket'].value_counts().sort_index()\n",
    "\n",
    "# Plot bar graph\n",
    "plt.figure(figsize=(10,6))\n",
    "plt.bar(bucket_counts.index, bucket_counts)\n",
    "plt.xlabel('Rating Bucket')\n",
    "plt.ylabel('Number of Books')\n",
    "plt.title('Number of Books in Each Rating Bucket')\n",
    "plt.show()"
   ]
  }
 ],
 "metadata": {
  "kernelspec": {
   "display_name": "Python 3",
   "language": "python",
   "name": "python3"
  },
  "language_info": {
   "codemirror_mode": {
    "name": "ipython",
    "version": 3
   },
   "file_extension": ".py",
   "mimetype": "text/x-python",
   "name": "python",
   "nbconvert_exporter": "python",
   "pygments_lexer": "ipython3",
   "version": "3.9.6"
  }
 },
 "nbformat": 4,
 "nbformat_minor": 2
}
